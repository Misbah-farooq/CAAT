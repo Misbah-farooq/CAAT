{
 "cells": [
  {
   "cell_type": "code",
   "execution_count": 1,
   "id": "50dd4fb2",
   "metadata": {},
   "outputs": [
    {
     "name": "stdout",
     "output_type": "stream",
     "text": [
      "✅ Saved filtered 4-class data with full dialog_id and utterance type to: /iemocap/IEMOCAP_full_release/iemocap_4.csv\n"
     ]
    }
   ],
   "source": [
    "import os\n",
    "import pandas as pd\n",
    "import glob\n",
    "\n",
    "iemocap_path = '/iemocap/IEMOCAP_full_release'\n",
    "sessions = [f'Session{i}' for i in range(1, 6)]\n",
    "data = []\n",
    "\n",
    "# 4-class labels\n",
    "allowed_emotions = {'ang', 'hap', 'sad', 'neu', 'exc'}\n",
    "\n",
    "for session in sessions:\n",
    "    eval_dir = os.path.join(iemocap_path, session, 'dialog', 'EmoEvaluation')\n",
    "    trans_dir = os.path.join(iemocap_path, session, 'dialog', 'transcriptions')\n",
    "    wav_base_dir = os.path.join(iemocap_path, session, 'sentences', 'wav')\n",
    "\n",
    "    for eval_file in os.listdir(eval_dir):\n",
    "        if not eval_file.endswith('.txt'):\n",
    "            continue\n",
    "        with open(os.path.join(eval_dir, eval_file), 'r') as f:\n",
    "            lines = f.readlines()\n",
    "            for line in lines:\n",
    "                if line.startswith('['):\n",
    "                    parts = line.strip().split('\\t')\n",
    "                    if len(parts) >= 3:\n",
    "                        utt_id = parts[1]\n",
    "                        emotion = parts[2]\n",
    "                        \n",
    "                        if emotion not in allowed_emotions:\n",
    "                            continue\n",
    "\n",
    "                        # Merge 'exc' into 'hap'\n",
    "                        if emotion == 'exc':\n",
    "                            emotion = 'hap'\n",
    "\n",
    "                        dialog_id = '_'.join(utt_id.split('_')[:3])  # e.g., Ses05F_script01_1\n",
    "                        trans_file_pattern = os.path.join(trans_dir, f'{utt_id.split(\"_\")[0]}_{utt_id.split(\"_\")[1]}_*.txt')\n",
    "\n",
    "                        # Search for matching transcription files\n",
    "                        matches = sorted(glob.glob(trans_file_pattern))\n",
    "                        if matches:\n",
    "                            trans_file = matches[0]  # Use the first match\n",
    "                            \n",
    "                            # Determine type: 'scripted' or 'improvised'\n",
    "                            utt_type = 'scripted' if 'script' in dialog_id.lower() else 'improvised'\n",
    "\n",
    "                            with open(trans_file, 'r') as tf:\n",
    "                                for tline in tf:\n",
    "                                    if utt_id in tline:\n",
    "                                        text = tline.strip().split(': ')[-1]\n",
    "                                        wav_path = os.path.join(wav_base_dir, dialog_id, utt_id + '.wav')\n",
    "\n",
    "                                        data.append({\n",
    "                                            'utterance_id': utt_id,\n",
    "                                            'dialog_id': dialog_id,\n",
    "                                            'emotion': emotion,\n",
    "                                            'text': text,\n",
    "                                            'wav_path': wav_path,\n",
    "                                            'type': utt_type\n",
    "                                        })\n",
    "                                        break\n",
    "\n",
    "# Create DataFrame\n",
    "df = pd.DataFrame(data)\n",
    "df = df.sort_values(by='utterance_id').reset_index(drop=True)\n",
    "\n",
    "# Save to CSV\n",
    "output_csv_path = '/IEMOCAP_full_release/iemocap_4.csv'\n",
    "df.to_csv(output_csv_path, index=False)\n",
    "print(f\"✅ Saved filtered 4-class data with full dialog_id and utterance type to: {output_csv_path}\")\n"
   ]
  }
 ],
 "metadata": {
  "kernelspec": {
   "display_name": "3.11.3",
   "language": "python",
   "name": "python3"
  },
  "language_info": {
   "codemirror_mode": {
    "name": "ipython",
    "version": 3
   },
   "file_extension": ".py",
   "mimetype": "text/x-python",
   "name": "python",
   "nbconvert_exporter": "python",
   "pygments_lexer": "ipython3",
   "version": "3.11.3"
  }
 },
 "nbformat": 4,
 "nbformat_minor": 5
}
